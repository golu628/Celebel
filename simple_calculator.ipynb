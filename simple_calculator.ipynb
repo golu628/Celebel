{
  "nbformat": 4,
  "nbformat_minor": 0,
  "metadata": {
    "colab": {
      "provenance": [],
      "authorship_tag": "ABX9TyNUl6VY2XWN19HRtk8vaPW0",
      "include_colab_link": true
    },
    "kernelspec": {
      "name": "python3",
      "display_name": "Python 3"
    },
    "language_info": {
      "name": "python"
    }
  },
  "cells": [
    {
      "cell_type": "markdown",
      "metadata": {
        "id": "view-in-github",
        "colab_type": "text"
      },
      "source": [
        "<a href=\"https://colab.research.google.com/github/golu628/Celebel/blob/main/simple_calculator.ipynb\" target=\"_parent\"><img src=\"https://colab.research.google.com/assets/colab-badge.svg\" alt=\"Open In Colab\"/></a>"
      ]
    },
    {
      "cell_type": "code",
      "execution_count": 8,
      "metadata": {
        "colab": {
          "base_uri": "https://localhost:8080/"
        },
        "id": "yVnfdjLbqhpF",
        "outputId": "6bc7e623-8639-4cc7-ff66-94270b52bb51"
      },
      "outputs": [
        {
          "output_type": "stream",
          "name": "stdout",
          "text": [
            "enter your number2\n",
            "enter your number3\n",
            "select options from 1,2,3,4,5,66\n",
            "the pow of number is 8.0\n"
          ]
        }
      ],
      "source": [
        "x = float(input(\"enter your number\"))\n",
        "y = float(input(\"enter your number\"))\n",
        "def add(x,y):\n",
        "   return (x+y)\n",
        "def subtract(x,y):\n",
        "   return (x-y)\n",
        "def multiply(x,y):\n",
        "   return (x*y)\n",
        "def division(x,y):\n",
        "   return (x/y)\n",
        "def sqrt(x):\n",
        "   return x**0.5\n",
        "def pow(x,y):\n",
        "   return x**y\n",
        "\n",
        "select = int(input(\"select options from 1,2,3,4,5,6\"))\n",
        "if select == 1:\n",
        "  print(\"the sum of two numbers is\",add(x,y))\n",
        "elif select == 2:\n",
        "  print(\"the subtract of two numbers is \", subtract(x,y))\n",
        "elif select == 3:\n",
        "  print(\"the multiplication of two numbers is\",multiply(x,y))\n",
        "elif select == 4:\n",
        "  print(\"the divison of two numbers is\",division(x,y))\n",
        "elif select == 5:\n",
        "  print(\"the sqrt of number is\",sqrt(x))\n",
        "elif select == 6:\n",
        "  print(\"the pow of number is\",pow(x,y))"
      ]
    }
  ]
}